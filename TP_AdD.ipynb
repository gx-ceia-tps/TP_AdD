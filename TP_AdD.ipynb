{
 "cells": [
  {
   "cell_type": "markdown",
   "id": "115dad6d-67e4-4d81-823f-82af31c7c6fe",
   "metadata": {},
   "source": [
    "# AdD Trabajo Práctico Final CEIA 17Co2024\n",
    "## Autores: Joaquín Matías Mestanza, Gonzalo Nicolas Silva Caggiano, Ramiro Andrés Feichubuinm"
   ]
  },
  {
   "cell_type": "code",
   "execution_count": 1,
   "id": "db09aa99-0e04-4c54-a5f5-fcea97933b7f",
   "metadata": {},
   "outputs": [],
   "source": [
    "import numpy as np\n",
    "import pandas as pd\n",
    "import os"
   ]
  }
 ],
 "metadata": {
  "kernelspec": {
   "display_name": "Python 3 (ipykernel)",
   "language": "python",
   "name": "python3"
  },
  "language_info": {
   "codemirror_mode": {
    "name": "ipython",
    "version": 3
   },
   "file_extension": ".py",
   "mimetype": "text/x-python",
   "name": "python",
   "nbconvert_exporter": "python",
   "pygments_lexer": "ipython3",
   "version": "3.11.9"
  }
 },
 "nbformat": 4,
 "nbformat_minor": 5
}
