{
 "cells": [
  {
   "cell_type": "markdown",
   "id": "115dad6d-67e4-4d81-823f-82af31c7c6fe",
   "metadata": {},
   "source": [
    "# AdD Trabajo Práctico Final CEIA 17Co2024\n",
    "## Autores: Joaquín Matías Mestanza, Gonzalo Nicolas Silva Caggiano, Ramiro Andrés Feichubuinm"
   ]
  },
  {
   "cell_type": "code",
   "execution_count": 1,
   "id": "db09aa99-0e04-4c54-a5f5-fcea97933b7f",
   "metadata": {},
   "outputs": [],
   "source": [
    "import numpy as np\n",
    "import pandas as pd\n",
    "import os"
   ]
  },
  {
   "cell_type": "code",
   "execution_count": 4,
   "id": "ece0bb32-e373-4448-8290-40b9f77180b8",
   "metadata": {},
   "outputs": [
    {
     "name": "stdout",
     "output_type": "stream",
     "text": [
      "./datasets\\circuits.csv\n",
      "./datasets\\constructors.csv\n",
      "./datasets\\constructor_results.csv\n",
      "./datasets\\constructor_standings.csv\n",
      "./datasets\\drivers.csv\n",
      "./datasets\\driver_standings.csv\n",
      "./datasets\\lap_times.csv\n",
      "./datasets\\pit_stops.csv\n",
      "./datasets\\qualifying.csv\n",
      "./datasets\\races.csv\n",
      "./datasets\\results.csv\n",
      "./datasets\\seasons.csv\n",
      "./datasets\\sprint_results.csv\n",
      "./datasets\\status.csv\n"
     ]
    }
   ],
   "source": [
    "for dirname, _, filenames in os.walk('./datasets'):\n",
    "    for filename in filenames:\n",
    "        print(os.path.join(dirname, filename))"
   ]
  },
  {
   "cell_type": "code",
   "execution_count": null,
   "id": "34770c10-6bc5-4c13-a39f-ff670640706b",
   "metadata": {},
   "outputs": [],
   "source": []
  }
 ],
 "metadata": {
  "kernelspec": {
   "display_name": "Python 3 (ipykernel)",
   "language": "python",
   "name": "python3"
  },
  "language_info": {
   "codemirror_mode": {
    "name": "ipython",
    "version": 3
   },
   "file_extension": ".py",
   "mimetype": "text/x-python",
   "name": "python",
   "nbconvert_exporter": "python",
   "pygments_lexer": "ipython3",
   "version": "3.11.9"
  }
 },
 "nbformat": 4,
 "nbformat_minor": 5
}
